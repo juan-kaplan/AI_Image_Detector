{
 "cells": [
  {
   "cell_type": "code",
   "execution_count": null,
   "id": "3d0aac5b",
   "metadata": {},
   "outputs": [],
   "source": [
    "from datasets import load_dataset\n",
    "\n",
    "# Load the dataset \"dragon\" from the \"lesc-unifi\" collection with the \"ExtraLarge\" configuration\n",
    "ds = load_dataset(\"lesc-unifi/dragon\", \"ExtraLarge\")"
   ]
  }
 ],
 "metadata": {
  "kernelspec": {
   "display_name": "Python 3",
   "language": "python",
   "name": "python3"
  },
  "language_info": {
   "codemirror_mode": {
    "name": "ipython",
    "version": 3
   },
   "file_extension": ".py",
   "mimetype": "text/x-python",
   "name": "python",
   "nbconvert_exporter": "python",
   "pygments_lexer": "ipython3",
   "version": "3.10.11"
  }
 },
 "nbformat": 4,
 "nbformat_minor": 5
}
